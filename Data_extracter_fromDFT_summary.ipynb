{
  "nbformat": 4,
  "nbformat_minor": 0,
  "metadata": {
    "colab": {
      "provenance": [],
      "mount_file_id": "1cTBpprG_BCFFAm-uYUUWhASk_sB1DVj_",
      "authorship_tag": "ABX9TyMENuj+ykmAA+KVeBFk4LNm",
      "include_colab_link": true
    },
    "kernelspec": {
      "name": "python3",
      "display_name": "Python 3"
    },
    "language_info": {
      "name": "python"
    }
  },
  "cells": [
    {
      "cell_type": "markdown",
      "metadata": {
        "id": "view-in-github",
        "colab_type": "text"
      },
      "source": [
        "<a href=\"https://colab.research.google.com/github/micro-mega/Cysteine_oxidation/blob/main/Data_extracter_fromDFT_summary.ipynb\" target=\"_parent\"><img src=\"https://colab.research.google.com/assets/colab-badge.svg\" alt=\"Open In Colab\"/></a>"
      ]
    },
    {
      "cell_type": "code",
      "execution_count": null,
      "metadata": {
        "id": "x2MawBcwcFYr"
      },
      "outputs": [],
      "source": [
        "import os\n",
        "import re\n",
        "import pandas as pd\n",
        "\n",
        "# Set the directory containing the .txt files\n",
        "directory = '/content/'\n",
        "\n",
        "# Initialize an empty DataFrame to store the extracted data\n",
        "data = []\n",
        "\n",
        "# Loop through the files in the directory\n",
        "for filename in os.listdir(directory):\n",
        "    if filename.endswith('.txt'):\n",
        "        with open(os.path.join(directory, filename), 'r') as f:\n",
        "            content = f.read()\n",
        "\n",
        "            # Use regex to extract the required data\n",
        "            def get_value(pattern):\n",
        "                match = re.search(pattern, content)\n",
        "                return float(match.group(1)) if match else None\n",
        "\n",
        "            e_rm062x = get_value(r'E\\(RM062X\\) = ([-\\d.]+) Hartree')\n",
        "            dipole_moment = get_value(r'Dipole Moment = ([-\\d.]+) Debye')\n",
        "            polarizability = get_value(r'Polarizability \\(.*\\) = ([-\\d.]+) a\\.u\\.')\n",
        "            e_thermal = get_value(r'E \\(Thermal\\) = ([-\\d.]+) kcal/mol')\n",
        "            heat_capacity_cv = get_value(r'Heat Capacity \\(Cv\\) = ([-\\d.]+) cal/mol-kelvin')\n",
        "            entropy_s = get_value(r'Entropy \\(S\\) = ([-\\d.]+) cal/mol-kelvin')\n",
        "\n",
        "            # Append the extracted data to the DataFrame\n",
        "            data.append([filename, e_rm062x, dipole_moment, polarizability, e_thermal, heat_capacity_cv, entropy_s])\n",
        "\n",
        "# Create a DataFrame with the extracted data and columns\n",
        "df = pd.DataFrame(data, columns=['Filename', 'E(RM062X)', 'Dipole Moment', 'Polarizability', 'E (Thermal)', 'Heat Capacity (Cv)', 'Entropy (S)'])\n",
        "\n",
        "# Save the DataFrame to an Excel file\n",
        "df.to_excel('/content/X-Ala-Pro-OMe-Dft_data.xlsx', index=False, engine='openpyxl')\n"
      ]
    }
  ]
}