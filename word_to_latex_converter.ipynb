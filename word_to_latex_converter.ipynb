{
  "nbformat": 4,
  "nbformat_minor": 0,
  "metadata": {
    "colab": {
      "provenance": [],
      "mount_file_id": "1ZmPY9IwcHuwNYozpDzS06pURXYb1O8u8",
      "authorship_tag": "ABX9TyM5zF5L2iM4eH+JwvZ0CVkt",
      "include_colab_link": true
    },
    "kernelspec": {
      "name": "python3",
      "display_name": "Python 3"
    },
    "language_info": {
      "name": "python"
    }
  },
  "cells": [
    {
      "cell_type": "markdown",
      "metadata": {
        "id": "view-in-github",
        "colab_type": "text"
      },
      "source": [
        "<a href=\"https://colab.research.google.com/github/micro-mega/Cysteine_oxidation/blob/main/word_to_latex_converter.ipynb\" target=\"_parent\"><img src=\"https://colab.research.google.com/assets/colab-badge.svg\" alt=\"Open In Colab\"/></a>"
      ]
    },
    {
      "cell_type": "code",
      "source": [
        "# Install Pandoc\n",
        "!apt-get install pandoc"
      ],
      "metadata": {
        "colab": {
          "base_uri": "https://localhost:8080/"
        },
        "id": "kKUCnDhMtP3I",
        "outputId": "d5ded075-7107-4871-87ca-60f9bac9e2c2"
      },
      "execution_count": null,
      "outputs": [
        {
          "output_type": "stream",
          "name": "stdout",
          "text": [
            "Reading package lists... Done\n",
            "Building dependency tree... Done\n",
            "Reading state information... Done\n",
            "pandoc is already the newest version (2.9.2.1-3ubuntu2).\n",
            "pandoc set to manually installed.\n",
            "0 upgraded, 0 newly installed, 0 to remove and 35 not upgraded.\n"
          ]
        }
      ]
    },
    {
      "cell_type": "code",
      "execution_count": null,
      "metadata": {
        "colab": {
          "base_uri": "https://localhost:8080/"
        },
        "id": "wtevpAVotIV9",
        "outputId": "c15318f9-619f-40d1-ad12-cb28d36cadbd"
      },
      "outputs": [
        {
          "output_type": "stream",
          "name": "stdout",
          "text": [
            "Drive already mounted at /content/drive; to attempt to forcibly remount, call drive.mount(\"/content/drive\", force_remount=True).\n",
            "Conversion complete. LaTeX file saved as: research-proposal-modified.tex\n"
          ]
        }
      ],
      "source": [
        "# Import necessary libraries\n",
        "from google.colab import drive\n",
        "import os\n",
        "\n",
        "# Mount Google Drive\n",
        "drive.mount('/content/drive')\n",
        "\n",
        "\n",
        "# Define the path to your document folder in Google Drive\n",
        "# Make sure to replace 'YourGoogleDrivePathHere' with the path to the folder containing your Word document.\n",
        "doc_folder_path = '/content/drive/MyDrive/endnote-to-bibtex-in-doc'\n",
        "doc_name = 'research-proposal-modified.docx'  # Replace with your document's name\n",
        "latex_output_name = 'research-proposal-modified.tex'  # Name of the output LaTeX file\n",
        "\n",
        "# Change directory to the document folder\n",
        "os.chdir(doc_folder_path)\n",
        "\n",
        "# Convert the Word document to LaTeX using Pandoc\n",
        "!pandoc -s \"$doc_name\" --extract-media=./media -o \"$latex_output_name\"\n",
        "\n",
        "print(f\"Conversion complete. LaTeX file saved as: {latex_output_name}\")\n"
      ]
    },
    {
      "cell_type": "markdown",
      "source": [
        "TIFF to PNG converter"
      ],
      "metadata": {
        "id": "E1zU_7q7yRwP"
      }
    },
    {
      "cell_type": "code",
      "source": [],
      "metadata": {
        "id": "CJGDeKFn7MH2"
      },
      "execution_count": null,
      "outputs": []
    },
    {
      "cell_type": "code",
      "source": [
        "!pip install Pillow\n"
      ],
      "metadata": {
        "id": "rte_8lqOyX0s"
      },
      "execution_count": null,
      "outputs": []
    },
    {
      "cell_type": "code",
      "source": [
        "from PIL import Image\n",
        "import os\n",
        "\n",
        "# Directory containing your TIFF images\n",
        "# Adjust this path to where your TIFF images are stored after extraction\n",
        "tiff_images_dir = '/content/drive/My Drive/PPII_helix/extracted_images'\n",
        "png_images_dir = '/content/drive/My Drive/PPII_helix/extracted_png_images'\n",
        "\n",
        "# Create the output directory if it doesn't exist\n",
        "os.makedirs(png_images_dir, exist_ok=True)\n",
        "\n",
        "# Convert each TIFF image to PNG\n",
        "for filename in os.listdir(tiff_images_dir):\n",
        "    if filename.endswith(\".tiff\"):\n",
        "        with Image.open(os.path.join(tiff_images_dir, filename)) as img:\n",
        "            # Define the output filename, replacing the file extension with .png\n",
        "            output_filename = os.path.splitext(filename)[0] + '.png'\n",
        "            # Save the image in PNG format\n",
        "            img.save(os.path.join(png_images_dir, output_filename))\n",
        "\n",
        "print(\"Conversion complete. PNG images saved.\")\n"
      ],
      "metadata": {
        "colab": {
          "base_uri": "https://localhost:8080/"
        },
        "id": "4gyZi4-PyRLk",
        "outputId": "fe277b38-73d3-41a4-8a66-2ff82810a0a6"
      },
      "execution_count": null,
      "outputs": [
        {
          "output_type": "stream",
          "name": "stdout",
          "text": [
            "Conversion complete. PNG images saved.\n"
          ]
        }
      ]
    },
    {
      "cell_type": "code",
      "source": [],
      "metadata": {
        "id": "VIfYHkbz7PUC"
      },
      "execution_count": null,
      "outputs": []
    },
    {
      "cell_type": "markdown",
      "source": [
        "Docx to markdown converter"
      ],
      "metadata": {
        "id": "GlEhAs5g7QNM"
      }
    },
    {
      "cell_type": "code",
      "source": [
        "# Import necessary libraries\n",
        "from google.colab import drive\n",
        "import os\n",
        "\n",
        "# Mount Google Drive\n",
        "drive.mount('/content/drive')\n",
        "\n",
        "\n",
        "# Define the path to your document folder in Google Drive\n",
        "# Make sure to replace 'YourGoogleDrivePathHere' with the path to the folder containing your Word document.\n",
        "doc_folder_path = '/content/drive/My Drive/PPII_helix'\n",
        "doc_name = 'Acyl-Capping-PPII-SI-0.14.docx'  # Replace with your document's name\n",
        "markdown_output_name = 'Acyl-Capping-PPII-SI-0.14.md'  # Name of the output LaTeX file\n",
        "\n",
        "# Change directory to the document folder\n",
        "os.chdir(doc_folder_path)\n",
        "\n",
        "# Convert the Word document to LaTeX using Pandoc\n",
        "!pandoc -s \"$doc_name\" -t markdown -o \"$markdown_output_name\"\n",
        "\n",
        "\n",
        "\n",
        "\n",
        "print(f\"Conversion complete. Markdown file saved as: {markdown_output_name}\")\n"
      ],
      "metadata": {
        "colab": {
          "base_uri": "https://localhost:8080/"
        },
        "id": "YSD_Crb-7Xc8",
        "outputId": "3d7f854c-7286-433c-e606-5cba1d162194"
      },
      "execution_count": null,
      "outputs": [
        {
          "output_type": "stream",
          "name": "stdout",
          "text": [
            "Drive already mounted at /content/drive; to attempt to forcibly remount, call drive.mount(\"/content/drive\", force_remount=True).\n",
            "Conversion complete. Markdown file saved as: Acyl-Capping-PPII-SI-0.14.md\n"
          ]
        }
      ]
    },
    {
      "cell_type": "markdown",
      "source": [
        "word to image extractor"
      ],
      "metadata": {
        "id": "OkqLsrnDDzMp"
      }
    },
    {
      "cell_type": "code",
      "source": [
        "# Step 1: Mount Google Drive\n",
        "from google.colab import drive\n",
        "drive.mount('/content/drive')\n",
        "\n",
        "# Step 2: Define the path to your Word document\n",
        "# Replace 'PPII_helix/your-document.docx' with the path to your actual Word document\n",
        "doc_path = '/content/drive/My Drive/PPII_helix/PPII_Chapter_2.docx'\n",
        "output_folder = '/content/drive/My Drive/PPII_helix/extracted_images/'\n",
        "\n",
        "# Make sure the output directory exists\n",
        "import os\n",
        "if not os.path.exists(output_folder):\n",
        "    os.makedirs(output_folder)\n",
        "\n",
        "# Step 3: Extract images from the Word document\n",
        "import zipfile\n",
        "import shutil\n",
        "\n",
        "# Function to extract images from a .docx file\n",
        "def extract_images_from_docx(doc_path, output_folder):\n",
        "    # Use zipfile to open the Word document archive\n",
        "    with zipfile.ZipFile(doc_path, 'r') as docx:\n",
        "        # List all files in the archive\n",
        "        all_files = docx.namelist()\n",
        "        # Filter for image files in the 'word/media/' directory\n",
        "        image_files = filter(lambda x: x.startswith('word/media/'), all_files)\n",
        "\n",
        "        for image in image_files:\n",
        "            # Extract image file\n",
        "            source = docx.open(image)\n",
        "            target_file_path = os.path.join(output_folder, os.path.basename(image))\n",
        "\n",
        "            # Save image to the output folder\n",
        "            with open(target_file_path, 'wb') as target:\n",
        "                shutil.copyfileobj(source, target)\n",
        "\n",
        "            print(f'Extracted: {target_file_path}')\n",
        "\n",
        "# Call the function to start extraction\n",
        "extract_images_from_docx(doc_path, output_folder)\n",
        "\n",
        "print(\"Image extraction complete.\")\n"
      ],
      "metadata": {
        "colab": {
          "base_uri": "https://localhost:8080/"
        },
        "id": "WZj26WjDDy7J",
        "outputId": "b9bab16a-e36f-4502-8a45-8dd6a4837a00"
      },
      "execution_count": null,
      "outputs": [
        {
          "output_type": "stream",
          "name": "stdout",
          "text": [
            "Drive already mounted at /content/drive; to attempt to forcibly remount, call drive.mount(\"/content/drive\", force_remount=True).\n",
            "Extracted: /content/drive/My Drive/PPII_helix/extracted_images/image4.tiff\n",
            "Extracted: /content/drive/My Drive/PPII_helix/extracted_images/image5.tiff\n",
            "Extracted: /content/drive/My Drive/PPII_helix/extracted_images/image6.tiff\n",
            "Extracted: /content/drive/My Drive/PPII_helix/extracted_images/image7.tiff\n",
            "Extracted: /content/drive/My Drive/PPII_helix/extracted_images/image8.tiff\n",
            "Extracted: /content/drive/My Drive/PPII_helix/extracted_images/image9.emf\n",
            "Extracted: /content/drive/My Drive/PPII_helix/extracted_images/image10.tiff\n",
            "Extracted: /content/drive/My Drive/PPII_helix/extracted_images/image11.tiff\n",
            "Extracted: /content/drive/My Drive/PPII_helix/extracted_images/image12.tiff\n",
            "Extracted: /content/drive/My Drive/PPII_helix/extracted_images/image13.tiff\n",
            "Extracted: /content/drive/My Drive/PPII_helix/extracted_images/image14.emf\n",
            "Extracted: /content/drive/My Drive/PPII_helix/extracted_images/image15.emf\n",
            "Extracted: /content/drive/My Drive/PPII_helix/extracted_images/image16.emf\n",
            "Extracted: /content/drive/My Drive/PPII_helix/extracted_images/image17.emf\n",
            "Extracted: /content/drive/My Drive/PPII_helix/extracted_images/image18.emf\n",
            "Extracted: /content/drive/My Drive/PPII_helix/extracted_images/image19.tiff\n",
            "Extracted: /content/drive/My Drive/PPII_helix/extracted_images/image3.tiff\n",
            "Extracted: /content/drive/My Drive/PPII_helix/extracted_images/image2.tiff\n",
            "Extracted: /content/drive/My Drive/PPII_helix/extracted_images/image1.tiff\n",
            "Extracted: /content/drive/My Drive/PPII_helix/extracted_images/image20.emf\n",
            "Extracted: /content/drive/My Drive/PPII_helix/extracted_images/image21.emf\n",
            "Extracted: /content/drive/My Drive/PPII_helix/extracted_images/image22.emf\n",
            "Extracted: /content/drive/My Drive/PPII_helix/extracted_images/image23.emf\n",
            "Extracted: /content/drive/My Drive/PPII_helix/extracted_images/image24.emf\n",
            "Extracted: /content/drive/My Drive/PPII_helix/extracted_images/image25.emf\n",
            "Extracted: /content/drive/My Drive/PPII_helix/extracted_images/image26.emf\n",
            "Extracted: /content/drive/My Drive/PPII_helix/extracted_images/image27.emf\n",
            "Extracted: /content/drive/My Drive/PPII_helix/extracted_images/image28.emf\n",
            "Extracted: /content/drive/My Drive/PPII_helix/extracted_images/image29.emf\n",
            "Extracted: /content/drive/My Drive/PPII_helix/extracted_images/image30.emf\n",
            "Extracted: /content/drive/My Drive/PPII_helix/extracted_images/image31.emf\n",
            "Extracted: /content/drive/My Drive/PPII_helix/extracted_images/image32.emf\n",
            "Extracted: /content/drive/My Drive/PPII_helix/extracted_images/image33.emf\n",
            "Extracted: /content/drive/My Drive/PPII_helix/extracted_images/image34.emf\n",
            "Extracted: /content/drive/My Drive/PPII_helix/extracted_images/image35.emf\n",
            "Extracted: /content/drive/My Drive/PPII_helix/extracted_images/image36.emf\n",
            "Extracted: /content/drive/My Drive/PPII_helix/extracted_images/image37.emf\n",
            "Extracted: /content/drive/My Drive/PPII_helix/extracted_images/image38.emf\n",
            "Extracted: /content/drive/My Drive/PPII_helix/extracted_images/image39.emf\n",
            "Extracted: /content/drive/My Drive/PPII_helix/extracted_images/image40.emf\n",
            "Extracted: /content/drive/My Drive/PPII_helix/extracted_images/image41.emf\n",
            "Extracted: /content/drive/My Drive/PPII_helix/extracted_images/image42.emf\n",
            "Extracted: /content/drive/My Drive/PPII_helix/extracted_images/image43.emf\n",
            "Extracted: /content/drive/My Drive/PPII_helix/extracted_images/image44.emf\n",
            "Extracted: /content/drive/My Drive/PPII_helix/extracted_images/image45.emf\n",
            "Extracted: /content/drive/My Drive/PPII_helix/extracted_images/image46.emf\n",
            "Extracted: /content/drive/My Drive/PPII_helix/extracted_images/image47.emf\n",
            "Extracted: /content/drive/My Drive/PPII_helix/extracted_images/image50.emf\n",
            "Extracted: /content/drive/My Drive/PPII_helix/extracted_images/image49.emf\n",
            "Extracted: /content/drive/My Drive/PPII_helix/extracted_images/image48.emf\n",
            "Extracted: /content/drive/My Drive/PPII_helix/extracted_images/image51.emf\n",
            "Extracted: /content/drive/My Drive/PPII_helix/extracted_images/image52.emf\n",
            "Extracted: /content/drive/My Drive/PPII_helix/extracted_images/image53.emf\n",
            "Extracted: /content/drive/My Drive/PPII_helix/extracted_images/image54.emf\n",
            "Extracted: /content/drive/My Drive/PPII_helix/extracted_images/image55.tiff\n",
            "Extracted: /content/drive/My Drive/PPII_helix/extracted_images/image56.tiff\n",
            "Extracted: /content/drive/My Drive/PPII_helix/extracted_images/image57.tiff\n",
            "Extracted: /content/drive/My Drive/PPII_helix/extracted_images/image58.tiff\n",
            "Extracted: /content/drive/My Drive/PPII_helix/extracted_images/image59.tiff\n",
            "Extracted: /content/drive/My Drive/PPII_helix/extracted_images/image60.tiff\n",
            "Extracted: /content/drive/My Drive/PPII_helix/extracted_images/image61.tiff\n",
            "Extracted: /content/drive/My Drive/PPII_helix/extracted_images/image62.tiff\n",
            "Extracted: /content/drive/My Drive/PPII_helix/extracted_images/image63.emf\n",
            "Extracted: /content/drive/My Drive/PPII_helix/extracted_images/image64.tiff\n",
            "Extracted: /content/drive/My Drive/PPII_helix/extracted_images/image65.tiff\n",
            "Extracted: /content/drive/My Drive/PPII_helix/extracted_images/image66.tiff\n",
            "Extracted: /content/drive/My Drive/PPII_helix/extracted_images/image67.tiff\n",
            "Extracted: /content/drive/My Drive/PPII_helix/extracted_images/image68.tiff\n",
            "Extracted: /content/drive/My Drive/PPII_helix/extracted_images/image69.tiff\n",
            "Extracted: /content/drive/My Drive/PPII_helix/extracted_images/image70.tiff\n",
            "Extracted: /content/drive/My Drive/PPII_helix/extracted_images/image71.emf\n",
            "Extracted: /content/drive/My Drive/PPII_helix/extracted_images/image72.tiff\n",
            "Extracted: /content/drive/My Drive/PPII_helix/extracted_images/image73.tiff\n",
            "Extracted: /content/drive/My Drive/PPII_helix/extracted_images/image74.tiff\n",
            "Extracted: /content/drive/My Drive/PPII_helix/extracted_images/image75.tiff\n",
            "Extracted: /content/drive/My Drive/PPII_helix/extracted_images/image76.tiff\n",
            "Extracted: /content/drive/My Drive/PPII_helix/extracted_images/image77.tiff\n",
            "Extracted: /content/drive/My Drive/PPII_helix/extracted_images/image78.tiff\n",
            "Extracted: /content/drive/My Drive/PPII_helix/extracted_images/image79.tiff\n",
            "Extracted: /content/drive/My Drive/PPII_helix/extracted_images/image80.emf\n",
            "Extracted: /content/drive/My Drive/PPII_helix/extracted_images/image81.emf\n",
            "Extracted: /content/drive/My Drive/PPII_helix/extracted_images/image82.emf\n",
            "Extracted: /content/drive/My Drive/PPII_helix/extracted_images/image83.tiff\n",
            "Extracted: /content/drive/My Drive/PPII_helix/extracted_images/image84.tiff\n",
            "Extracted: /content/drive/My Drive/PPII_helix/extracted_images/image85.tiff\n",
            "Extracted: /content/drive/My Drive/PPII_helix/extracted_images/image86.tiff\n",
            "Extracted: /content/drive/My Drive/PPII_helix/extracted_images/image87.tiff\n",
            "Extracted: /content/drive/My Drive/PPII_helix/extracted_images/image88.tiff\n",
            "Extracted: /content/drive/My Drive/PPII_helix/extracted_images/image89.tiff\n",
            "Extracted: /content/drive/My Drive/PPII_helix/extracted_images/image90.tiff\n",
            "Extracted: /content/drive/My Drive/PPII_helix/extracted_images/image91.tiff\n",
            "Extracted: /content/drive/My Drive/PPII_helix/extracted_images/image92.tiff\n",
            "Extracted: /content/drive/My Drive/PPII_helix/extracted_images/image93.emf\n",
            "Extracted: /content/drive/My Drive/PPII_helix/extracted_images/image94.emf\n",
            "Extracted: /content/drive/My Drive/PPII_helix/extracted_images/image95.emf\n",
            "Image extraction complete.\n"
          ]
        }
      ]
    }
  ]
}